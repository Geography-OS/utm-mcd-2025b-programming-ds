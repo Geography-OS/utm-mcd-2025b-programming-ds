{
 "cells": [
  {
   "cell_type": "markdown",
   "metadata": {},
   "source": [
    "# 2.2.3. Factors\n",
    "\n",
    "Los datos a menudo caen en un número limitado de categorías. Por ejemplo, el color del cabello humano puede clasificarse como negro, castaño, rubio, rojo, gris o blanco, y quizás algunas opciones más para personas que se tiñen el cabello. En R, los datos categóricos se almacenan en **factores** (*factors*). Los factores son muy importantes en el análisis de datos, así que comienza ahora a aprender cómo crearlos, sub-conjuntarlos y compararlos.\n",
    "\n",
    "## ¿Qué es un factor y por qué lo usarías?\n",
    "\n",
    "El término factor se refiere a un tipo de dato estadístico utilizado para almacenar variables categóricas. La diferencia entre una variable categórica y una variable continua es que una variable categórica puede pertenecer a un **número limitado de categorías**. Una variable continua, por otro lado, puede corresponder a un número infinito de valores.\n",
    "\n",
    "Es importante que R sepa si está trabajando con una variable continua o una categórica, ya que los modelos estadísticos que desarrollarás en el futuro tratan ambos tipos de manera diferente.\n",
    "\n",
    "Un buen ejemplo de una variable categórica es el sexo. En muchas circunstancias, puedes limitar las categorías de sexo a \"Male\" o \"Female\". (A veces podrías necesitar diferentes categorías. Por ejemplo, podrías considerar variaciones cromosómicas, animales hermafroditas, o diferentes normas culturales, pero siempre tendrás un número finito de categorías).\n",
    "\n",
    "**Instrucciones**\n",
    "\n",
    "- Asigna a la variable `theory` el valor `\"factors\"`."
   ]
  },
  {
   "cell_type": "code",
   "execution_count": null,
   "metadata": {
    "vscode": {
     "languageId": "r"
    }
   },
   "outputs": [],
   "source": [
    "# Assign to the variable theory what this chapter is about!\n"
   ]
  },
  {
   "cell_type": "markdown",
   "metadata": {},
   "source": [
    "## ¿Qué es un factor y por qué lo usarías? (2)\n",
    "\n",
    "Para crear factores en R, utilizas la función `factor()`. Lo primero que debes hacer es crear un vector que contenga todas las observaciones que pertenecen a un número limitado de categorías. Por ejemplo, `sex_vector` contiene el sexo de 5 individuos diferentes:\n",
    "\n",
    "```r\n",
    "sex_vector <- c(\"Male\", \"Female\", \"Female\", \"Male\", \"Male\")\n",
    "```\n",
    "\n",
    "Es claro que hay dos categorías, o en términos de R, niveles del factor, en juego aquí: “Male” y “Female”.\n",
    "\n",
    "La función `factor()` codificará el vector como un factor:\n",
    "\n",
    "```r\n",
    "factor_sex_vector <- factor(sex_vector)\n",
    "```\n",
    "\n",
    "**Instrucciones**\n",
    "\n",
    "- Convierte el vector de caracteres sex_vector a un factor usando factor() y asigna el resultado a factor_sex_vector.\n",
    "- Imprime factor_sex_vector y verifica que R muestra los niveles del factor debajo de los valores actuales.\n",
    "\n"
   ]
  },
  {
   "cell_type": "code",
   "execution_count": null,
   "metadata": {
    "vscode": {
     "languageId": "r"
    }
   },
   "outputs": [],
   "source": [
    "# Sex vector\n",
    "sex_vector <- c(\"Male\", \"Female\", \"Female\", \"Male\", \"Male\")\n",
    "\n",
    "# Convert sex_vector to a factor\n",
    "factor_sex_vector <-\n",
    "\n",
    "# Print out factor_sex_vector"
   ]
  },
  {
   "cell_type": "markdown",
   "metadata": {},
   "source": [
    "## ¿Qué es un factor y por qué lo usarías? (3)\n",
    "\n",
    "Existen dos tipos de variables categóricas: una **variable categórica nominal** y una **variable categórica ordinal**.\n",
    "\n",
    "Una variable nominal es una variable categórica sin un orden implícito. Esto significa que es imposible decir que \"una vale más que la otra\". Por ejemplo, piensa en la variable categórica `animals_vector` con las categorías `\"Elephant\"`, `\"Giraffe\"`, `\"Donkey\"` y `\"Horse\"`. Aquí, es imposible decir que una está por encima o por debajo de otra. (Aunque algunos podrían no estar de acuerdo ;-) ).\n",
    "\n",
    "En cambio, las variables ordinales sí tienen un orden natural. Considera, por ejemplo, la variable categórica `temperature_vector` con las categorías: `\"Low\"`, `\"Medium\"` y `\"High\"`. Aquí es evidente que `\"Medium\"` está por encima de `\"Low\"`, y `\"High\"` está por encima de `\"Medium\"`.\n",
    "\n",
    "**Instrucciones**\n",
    "\n",
    "Envía la respuesta para comprobar cómo R construye e imprime variables nominales y ordinales. No te preocupes si aún no entiendes todo el código, ya lo veremos más adelante."
   ]
  },
  {
   "cell_type": "code",
   "execution_count": 1,
   "metadata": {
    "vscode": {
     "languageId": "r"
    }
   },
   "outputs": [
    {
     "data": {
      "text/html": [
       "<style>\n",
       ".list-inline {list-style: none; margin:0; padding: 0}\n",
       ".list-inline>li {display: inline-block}\n",
       ".list-inline>li:not(:last-child)::after {content: \"\\00b7\"; padding: 0 .5ex}\n",
       "</style>\n",
       "<ol class=list-inline><li>Elephant</li><li>Giraffe</li><li>Donkey</li><li>Horse</li></ol>\n",
       "\n",
       "<details>\n",
       "\t<summary style=display:list-item;cursor:pointer>\n",
       "\t\t<strong>Levels</strong>:\n",
       "\t</summary>\n",
       "\t<style>\n",
       "\t.list-inline {list-style: none; margin:0; padding: 0}\n",
       "\t.list-inline>li {display: inline-block}\n",
       "\t.list-inline>li:not(:last-child)::after {content: \"\\00b7\"; padding: 0 .5ex}\n",
       "\t</style>\n",
       "\t<ol class=list-inline><li>'Donkey'</li><li>'Elephant'</li><li>'Giraffe'</li><li>'Horse'</li></ol>\n",
       "</details>"
      ],
      "text/latex": [
       "\\begin{enumerate*}\n",
       "\\item Elephant\n",
       "\\item Giraffe\n",
       "\\item Donkey\n",
       "\\item Horse\n",
       "\\end{enumerate*}\n",
       "\n",
       "\\emph{Levels}: \\begin{enumerate*}\n",
       "\\item 'Donkey'\n",
       "\\item 'Elephant'\n",
       "\\item 'Giraffe'\n",
       "\\item 'Horse'\n",
       "\\end{enumerate*}\n"
      ],
      "text/markdown": [
       "1. Elephant\n",
       "2. Giraffe\n",
       "3. Donkey\n",
       "4. Horse\n",
       "\n",
       "\n",
       "\n",
       "**Levels**: 1. 'Donkey'\n",
       "2. 'Elephant'\n",
       "3. 'Giraffe'\n",
       "4. 'Horse'\n",
       "\n",
       "\n"
      ],
      "text/plain": [
       "[1] Elephant Giraffe  Donkey   Horse   \n",
       "Levels: Donkey Elephant Giraffe Horse"
      ]
     },
     "metadata": {},
     "output_type": "display_data"
    },
    {
     "data": {
      "text/html": [
       "<style>\n",
       ".list-inline {list-style: none; margin:0; padding: 0}\n",
       ".list-inline>li {display: inline-block}\n",
       ".list-inline>li:not(:last-child)::after {content: \"\\00b7\"; padding: 0 .5ex}\n",
       "</style>\n",
       "<ol class=list-inline><li>High</li><li>Low</li><li>High</li><li>Low</li><li>Medium</li></ol>\n",
       "\n",
       "<details>\n",
       "\t<summary style=display:list-item;cursor:pointer>\n",
       "\t\t<strong>Levels</strong>:\n",
       "\t</summary>\n",
       "\t<style>\n",
       "\t.list-inline {list-style: none; margin:0; padding: 0}\n",
       "\t.list-inline>li {display: inline-block}\n",
       "\t.list-inline>li:not(:last-child)::after {content: \"\\00b7\"; padding: 0 .5ex}\n",
       "\t</style>\n",
       "\t<ol class=list-inline><li>'Low'</li><li>'Medium'</li><li>'High'</li></ol>\n",
       "</details>"
      ],
      "text/latex": [
       "\\begin{enumerate*}\n",
       "\\item High\n",
       "\\item Low\n",
       "\\item High\n",
       "\\item Low\n",
       "\\item Medium\n",
       "\\end{enumerate*}\n",
       "\n",
       "\\emph{Levels}: \\begin{enumerate*}\n",
       "\\item 'Low'\n",
       "\\item 'Medium'\n",
       "\\item 'High'\n",
       "\\end{enumerate*}\n"
      ],
      "text/markdown": [
       "1. High\n",
       "2. Low\n",
       "3. High\n",
       "4. Low\n",
       "5. Medium\n",
       "\n",
       "\n",
       "\n",
       "**Levels**: 1. 'Low'\n",
       "2. 'Medium'\n",
       "3. 'High'\n",
       "\n",
       "\n"
      ],
      "text/plain": [
       "[1] High   Low    High   Low    Medium\n",
       "Levels: Low < Medium < High"
      ]
     },
     "metadata": {},
     "output_type": "display_data"
    }
   ],
   "source": [
    "# Animals\n",
    "animals_vector <- c(\"Elephant\", \"Giraffe\", \"Donkey\", \"Horse\")\n",
    "factor_animals_vector <- factor(animals_vector)\n",
    "factor_animals_vector\n",
    "\n",
    "# Temperature\n",
    "temperature_vector <- c(\"High\", \"Low\", \"High\",\"Low\", \"Medium\")\n",
    "factor_temperature_vector <- factor(temperature_vector, order = TRUE, levels = c(\"Low\", \"Medium\", \"High\"))\n",
    "factor_temperature_vector"
   ]
  },
  {
   "cell_type": "markdown",
   "metadata": {},
   "source": [
    "## Niveles de un factor\n",
    "\n",
    "Cuando obtienes un conjunto de datos, a menudo notarás que contiene factores con niveles específicos. Sin embargo, algunas veces querrás cambiar los nombres de estos niveles por claridad u otras razones. R te permite hacer esto con la función `levels()`:\n",
    "\n",
    "```r\n",
    "levels(factor_vector) <- c(“nombre1”, “nombre2”,…)\n",
    "```\n",
    "\n",
    "Una buena ilustración es la información en bruto que te proporciona una encuesta. Una pregunta común en cualquier cuestionario es el sexo del encuestado. Aquí, por simplicidad, solo se registraron dos categorías, `\"M\"` y `\"F\"`. (Usualmente necesitas más categorías para datos de encuestas; de cualquier manera, utilizas un factor para almacenar estos datos categóricos).\n",
    "\n",
    "```r\n",
    "survey_vector <- c(“M”, “F”, “F”, “M”, “M”)\n",
    "```\n",
    "\n",
    "Registrar el sexo con las abreviaturas `\"M\"` y `\"F\"` puede ser conveniente si estás recolectando datos con papel y lápiz, pero puede generar confusión al analizar los datos. En ese momento, a menudo querrás cambiar los niveles del factor a `\"Male\"` y `\"Female\"` en lugar de `\"M\"` y `\"F\"` para mayor claridad.\n",
    "\n",
    "**¡Atención!** El orden en el que asignas los niveles es importante. Si escribes `levels(factor_survey_vector)`, verás que devuelve `[1] \"F\" \"M\"`. Si no especificas los niveles del factor al crearlo, `R` los asignará automáticamente en orden alfabético. Para mapear correctamente `\"F\"` a `\"Female\"` y `\"M\"` a `\"Male\"`, los niveles deben establecerse como `c(\"Female\", \"Male\")`, en ese orden.\n",
    "\n",
    "**Instrucciones**\n",
    "\n",
    "- Observa el código que construye un vector factor a partir de `survey_vector`. Deberás usar `factor_survey_vector` en la siguiente instrucción.\n",
    "- Cambia los niveles del factor `factor_survey_vector` a `c(\"Female\", \"Male\")`. Presta atención al orden de los elementos del vector."
   ]
  },
  {
   "cell_type": "code",
   "execution_count": null,
   "metadata": {
    "vscode": {
     "languageId": "r"
    }
   },
   "outputs": [],
   "source": [
    "# Code to build factor_survey_vector\n",
    "survey_vector <- c(\"M\", \"F\", \"F\", \"M\", \"M\")\n",
    "factor_survey_vector <- factor(survey_vector)\n",
    "\n",
    "# Specify the levels of factor_survey_vector\n",
    "levels(factor_survey_vector) <-\n",
    "\n",
    "factor_survey_vector"
   ]
  },
  {
   "cell_type": "markdown",
   "metadata": {},
   "source": [
    "## Resumiendo un factor\n",
    "\n",
    "Después de terminar este curso, una de tus funciones favoritas en R será `summary()`. Esta te dará una visión rápida del contenido de una variable:\n",
    "\n",
    "```r\n",
    "summary(my_var)\n",
    "```\n",
    "\n",
    "Volviendo a nuestra encuesta, te gustaría saber cuántas respuestas `\"Male\"` tienes en tu estudio y cuántas respuestas `\"Female\"`. La función `summary()` te da la respuesta a esta pregunta.\n",
    "\n",
    "**Instrucciones  **\n",
    "\n",
    "- Pide un `summary()` del `survey_vector` y del `factor_survey_vector`. Interpreta los resultados de ambos vectores. ¿Son ambos igualmente útiles en este caso?"
   ]
  },
  {
   "cell_type": "code",
   "execution_count": null,
   "metadata": {
    "vscode": {
     "languageId": "r"
    }
   },
   "outputs": [],
   "source": [
    "# Build factor_survey_vector with clean levels\n",
    "survey_vector <- c(\"M\", \"F\", \"F\", \"M\", \"M\")\n",
    "factor_survey_vector <- factor(survey_vector)\n",
    "levels(factor_survey_vector) <- c(\"Female\", \"Male\")\n",
    "factor_survey_vector\n",
    "\n",
    "# Generate summary for survey_vector\n",
    "\n",
    "\n",
    "# Generate summary for factor_survey_vector"
   ]
  },
  {
   "cell_type": "markdown",
   "metadata": {},
   "source": [
    "## La batalla de los sexos\n",
    "\n",
    "Podrías preguntarte qué sucede cuando intentas comparar elementos de un factor. En `factor_survey_vector` tienes un factor con dos niveles: `\"Male\"` y `\"Female\"`. Pero, ¿cómo los valora R en relación uno con otro?\n",
    "\n",
    "**Instrucciones  **\n",
    "\n",
    "- Lee el código en el editor y envía la respuesta para probar si `male` es mayor que (`>`) `female`."
   ]
  },
  {
   "cell_type": "code",
   "execution_count": null,
   "metadata": {
    "vscode": {
     "languageId": "r"
    }
   },
   "outputs": [],
   "source": [
    "# Build factor_survey_vector with clean levels\n",
    "survey_vector <- c(\"M\", \"F\", \"F\", \"M\", \"M\")\n",
    "factor_survey_vector <- factor(survey_vector)\n",
    "levels(factor_survey_vector) <- c(\"Female\", \"Male\")\n",
    "\n",
    "# Male\n",
    "male <- factor_survey_vector[1]\n",
    "\n",
    "# Female\n",
    "female <- factor_survey_vector[2]\n",
    "\n",
    "# Battle of the sexes: Male 'larger' than female?\n",
    "male > female"
   ]
  },
  {
   "cell_type": "markdown",
   "metadata": {},
   "source": [
    "## Factores ordenados\n",
    "\n",
    "Dado que `\"Male\"` y `\"Female\"` son niveles de factor no ordenados (o nominales), R devuelve un mensaje de advertencia, indicándote que el operador de mayor que no tiene sentido. Como ya vimos, R asigna un valor igual a los niveles para este tipo de factores.\n",
    "\n",
    "¡Pero esto no siempre es así! A veces también trabajarás con factores que sí tienen un orden natural entre sus categorías. Si este es el caso, debemos asegurarnos de comunicar esta información a R...\n",
    "\n",
    "Supongamos que lideras un equipo de investigación de cinco analistas de datos y quieres evaluar su desempeño. Para hacerlo, registras su velocidad, evaluando a cada analista como `\"slow\"`, `\"medium\"` o `\"fast\"`, y guardas los resultados en `speed_vector`.\n",
    "\n",
    "**Instrucciones**\n",
    "\n",
    "Como primer paso, asigna a `speed_vector` un vector con 5 entradas, una para cada analista. Cada entrada debe ser `\"slow\"`, `\"medium\"` o `\"fast\"`. Usa la siguiente lista:\n",
    "\n",
    "- El analista 1 es medium,\n",
    "- El analista 2 es slow,\n",
    "- El analista 3 es slow,\n",
    "- El analista 4 es medium,\n",
    "- El analista 5 es fast.\n",
    "\n",
    "No es necesario especificar que son factores todavía."
   ]
  },
  {
   "cell_type": "code",
   "execution_count": null,
   "metadata": {
    "vscode": {
     "languageId": "r"
    }
   },
   "outputs": [],
   "source": [
    "# Create speed_vector\n",
    "speed_vector <- "
   ]
  },
  {
   "cell_type": "markdown",
   "metadata": {},
   "source": [
    "## Factores ordenados (2)\n",
    "\n",
    "`speed_vector` debe convertirse en un factor ordinal ya que sus categorías tienen un orden natural. Por defecto, la función `factor()` transforma `speed_vector` en un factor no ordenado. Para crear un factor ordenado, debes agregar dos argumentos adicionales: `ordered` y `levels`.\n",
    "\n",
    "factor(some_vector,\n",
    "ordered = TRUE,\n",
    "levels = c(“lev1”, “lev2”, …))\n",
    "\n",
    "Al establecer el argumento `ordered` como `TRUE` en la función `factor()`, indicas que el factor es ordenado. Con el argumento `levels` defines los valores del factor en el orden correcto.\n",
    "\n",
    "**Instrucciones**\n",
    "\n",
    "A partir de `speed_vector`, crea un vector factor ordenado: `factor_speed_vector`. Establece `ordered` como `TRUE`, y configura `levels` como `c(\"slow\", \"medium\", \"fast\")`."
   ]
  },
  {
   "cell_type": "code",
   "execution_count": null,
   "metadata": {
    "vscode": {
     "languageId": "r"
    }
   },
   "outputs": [],
   "source": [
    "# Create speed_vector\n",
    "speed_vector <- c(\"medium\", \"slow\", \"slow\", \"medium\", \"fast\")\n",
    "\n",
    "# Convert speed_vector to ordered factor vector\n",
    "factor_speed_vector <-\n",
    "\n",
    "# Print factor_speed_vector\n",
    "factor_speed_vector\n",
    "summary(factor_speed_vector)"
   ]
  },
  {
   "cell_type": "markdown",
   "metadata": {},
   "source": [
    "## Comparando factores ordenados\n",
    "\n",
    "Teniendo un mal día en el trabajo, el 'analista de datos número dos' entra en tu oficina y comienza a quejarse de que el 'analista de datos número cinco' está retrasando todo el proyecto. Como sabes que el 'analista número dos' tiene fama de ser un sabelotodo, primero decides comprobar si su afirmación es cierta.\n",
    "\n",
    "El hecho de que `factor_speed_vector` ahora sea un factor ordenado nos permite comparar diferentes elementos (en este caso, los analistas de datos). Puedes hacerlo fácilmente usando los operadores que ya conoces.\n",
    "\n",
    "**Instrucciones  **\n",
    "\n",
    "- Usa `[2]` para seleccionar del `factor_speed_vector` el valor del factor para el segundo analista de datos. Guarda el resultado como `da2`.\n",
    "- Usa `[5]` para seleccionar del `factor_speed_vector` el valor del factor para el quinto analista de datos. Guarda el resultado como `da5`.\n",
    "- Verifica si `da2` es mayor que `da5`; simplemente imprime el resultado. Recuerda que puedes usar el operador `>` para comprobar si un elemento es mayor que otro."
   ]
  },
  {
   "cell_type": "code",
   "execution_count": null,
   "metadata": {
    "vscode": {
     "languageId": "r"
    }
   },
   "outputs": [],
   "source": [
    "# Create factor_speed_vector\n",
    "speed_vector <- c(\"medium\", \"slow\", \"slow\", \"medium\", \"fast\")\n",
    "factor_speed_vector <- factor(speed_vector, ordered = TRUE, levels = c(\"slow\", \"medium\", \"fast\"))\n",
    "\n",
    "# Factor value for second data analyst\n",
    "da2 <-\n",
    "\n",
    "# Factor value for fifth data analyst\n",
    "da5 <-\n",
    "\n",
    "# Is data analyst 2 faster than data analyst 5?"
   ]
  }
 ],
 "metadata": {
  "kernelspec": {
   "display_name": "R",
   "language": "R",
   "name": "ir"
  },
  "language_info": {
   "codemirror_mode": "r",
   "file_extension": ".r",
   "mimetype": "text/x-r-source",
   "name": "R",
   "pygments_lexer": "r",
   "version": "4.2.3"
  }
 },
 "nbformat": 4,
 "nbformat_minor": 2
}
