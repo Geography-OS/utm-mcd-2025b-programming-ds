{
 "cells": [
  {
   "cell_type": "markdown",
   "metadata": {},
   "source": [
    "# 2.2.2. Matrices y arreglos\n",
    "\n",
    "## ¿Qué es una matriz?\n",
    "\n",
    "En R, una matriz es una colección de elementos del mismo tipo de dato (numérico, carácter o lógico) organizados en un número fijo de filas y columnas. Como solo trabajas con filas y columnas, una matriz se llama bidimensional.\n",
    "\n",
    "Puedes construir una matriz en R con la función `matrix()`. Considera el siguiente ejemplo:\n",
    "\n",
    "```r\n",
    "matrix(1:9, byrow = TRUE, nrow = 3)\n",
    "```\n",
    "\n",
    "En la función `matrix()`:\n",
    "\n",
    "- El primer argumento es la colección de elementos que R organizará en las filas y columnas de la matriz. Aquí usamos `1:9`, que es un atajo para `c(1, 2, 3, 4, 5, 6, 7, 8, 9)`.\n",
    "- El argumento `byrow` indica que la matriz se llena por filas. Si queremos que la matriz se llene por columnas, simplemente usamos `byrow = FALSE`.\n",
    "- El tercer argumento `nrow` indica que la matriz debe tener tres filas.\n",
    "\n",
    "**Instrucciones**\n",
    "\n",
    "- Construye una matriz con 3 filas que contenga los números del 1 al 9, llenando la matriz por filas."
   ]
  },
  {
   "cell_type": "code",
   "execution_count": 1,
   "metadata": {
    "vscode": {
     "languageId": "r"
    }
   },
   "outputs": [
    {
     "data": {
      "text/html": [
       "<table class=\"dataframe\">\n",
       "<caption>A matrix: 3 × 3 of type int</caption>\n",
       "<tbody>\n",
       "\t<tr><td>1</td><td>2</td><td>3</td></tr>\n",
       "\t<tr><td>4</td><td>5</td><td>6</td></tr>\n",
       "\t<tr><td>7</td><td>8</td><td>9</td></tr>\n",
       "</tbody>\n",
       "</table>\n"
      ],
      "text/latex": [
       "A matrix: 3 × 3 of type int\n",
       "\\begin{tabular}{lll}\n",
       "\t 1 & 2 & 3\\\\\n",
       "\t 4 & 5 & 6\\\\\n",
       "\t 7 & 8 & 9\\\\\n",
       "\\end{tabular}\n"
      ],
      "text/markdown": [
       "\n",
       "A matrix: 3 × 3 of type int\n",
       "\n",
       "| 1 | 2 | 3 |\n",
       "| 4 | 5 | 6 |\n",
       "| 7 | 8 | 9 |\n",
       "\n"
      ],
      "text/plain": [
       "     [,1] [,2] [,3]\n",
       "[1,] 1    2    3   \n",
       "[2,] 4    5    6   \n",
       "[3,] 7    8    9   "
      ]
     },
     "metadata": {},
     "output_type": "display_data"
    }
   ],
   "source": [
    "# Construct a matrix with 3 rows that contain the numbers 1 up to 9\n",
    "\n"
   ]
  },
  {
   "cell_type": "markdown",
   "metadata": {},
   "source": [
    "## Analiza matrices, debes\n",
    "\n",
    "¡Es momento de ensuciarte las manos! En los siguientes ejercicios analizarás las cifras de taquilla de la franquicia de Star Wars. ¡Que la fuerza te acompañe!\n",
    "\n",
    "En el editor, se definen tres vectores. Cada uno representa las cifras de taquilla de las tres primeras películas de Star Wars. El primer elemento de cada vector indica la recaudación en taquilla de EE. UU., y el segundo elemento se refiere a la taquilla fuera de EE. UU. (fuente: Wikipedia).\n",
    "\n",
    "En este ejercicio, combinarás todas estas cifras en un solo vector. Luego, construirás una matriz a partir de este vector.\n",
    "\n",
    "**Instrucciones**\n",
    "\n",
    "- Usa `c(new_hope, empire_strikes, return_jedi)` para combinar los tres vectores en un solo vector. Llama a este vector `box_office`.\n",
    "- Construye una matriz con 3 filas, donde cada fila representa una película. Usa la función `matrix()` para hacerlo. El primer argumento es el vector `box_office`, que contiene todas las cifras de taquilla. Luego, tendrás que especificar `nrow = 3` y `byrow = TRUE`. Nombra la matriz resultante `star_wars_matrix`."
   ]
  },
  {
   "cell_type": "code",
   "execution_count": null,
   "metadata": {
    "vscode": {
     "languageId": "r"
    }
   },
   "outputs": [],
   "source": [
    "# Box office Star Wars (in millions!)\n",
    "new_hope <- c(460.998, 314.4)\n",
    "empire_strikes <- c(290.475, 247.900)\n",
    "return_jedi <- c(309.306, 165.8)\n",
    "\n",
    "# Create box_office\n",
    "box_office <- \n",
    "\n",
    "# Construct star_wars_matrix\n",
    "star_wars_matrix <- "
   ]
  },
  {
   "cell_type": "markdown",
   "metadata": {},
   "source": [
    "## Nombrando una matriz\n",
    "\n",
    "Para ayudarte a recordar qué está almacenado en `star_wars_matrix`, te gustaría agregar los nombres de las películas para las filas. Esto no solo facilita la lectura de los datos, sino que también es útil para seleccionar ciertos elementos de la matriz.\n",
    "\n",
    "Al igual que con los vectores, puedes agregar nombres para las filas y las columnas de una matriz:\n",
    "\n",
    "```r\n",
    "rownames(my_matrix) <- row_names_vector\n",
    "colnames(my_matrix) <- col_names_vector\n",
    "\n",
    "```\n",
    "\n",
    "Ya hemos preparado dos vectores para ti: `region` y `titles`. Necesitarás estos vectores para nombrar las columnas y filas de `star_wars_matrix`, respectivamente.\n",
    "\n",
    "**Instrucciones  **\n",
    "\n",
    "- Usa `colnames()` para nombrar las columnas de `star_wars_matrix` con el vector `region`.\n",
    "- Usa `rownames()` para nombrar las filas de `star_wars_matrix` con el vector `titles`.\n",
    "- Imprime `star_wars_matrix` para ver el resultado de tu trabajo."
   ]
  },
  {
   "cell_type": "code",
   "execution_count": null,
   "metadata": {
    "vscode": {
     "languageId": "r"
    }
   },
   "outputs": [],
   "source": [
    "# Box office Star Wars (in millions!)\n",
    "new_hope <- c(460.998, 314.4)\n",
    "empire_strikes <- c(290.475, 247.900)\n",
    "return_jedi <- c(309.306, 165.8)\n",
    "\n",
    "# Construct matrix\n",
    "star_wars_matrix <- matrix(c(new_hope, empire_strikes, return_jedi), nrow = 3, byrow = TRUE)\n",
    "\n",
    "# Vectors region and titles, used for naming\n",
    "region <- c(\"US\", \"non-US\")\n",
    "titles <- c(\"A New Hope\", \"The Empire Strikes Back\", \"Return of the Jedi\")\n",
    "\n",
    "# Name the columns with region\n",
    "\n",
    "\n",
    "# Name the rows with titles\n",
    "\n",
    "\n",
    "# Print out star_wars_matrix"
   ]
  },
  {
   "cell_type": "markdown",
   "metadata": {},
   "source": [
    "## Calculando la taquilla mundial\n",
    "\n",
    "Lo más importante para que una película se convierta en una leyenda instantánea en Hollywood son sus cifras de taquilla mundial.\n",
    "\n",
    "Para calcular la recaudación total en taquilla de las tres películas de Star Wars, debes sumar la columna de ingresos de EE. UU. y la columna de ingresos fuera de EE. UU.\n",
    "\n",
    "En R, la función `rowSums()` calcula convenientemente los totales para cada fila de una matriz. Esta función crea un nuevo vector:\n",
    "\n",
    "```r\n",
    "rowSums(my_matrix)\n",
    "```\n",
    "\n",
    "**Instrucciones**\n",
    "\n",
    "- Calcula las cifras de taquilla mundial para las tres películas y coloca estos valores en el vector llamado `worldwide_vector`."
   ]
  },
  {
   "cell_type": "code",
   "execution_count": null,
   "metadata": {
    "vscode": {
     "languageId": "r"
    }
   },
   "outputs": [],
   "source": [
    "# Construct star_wars_matrix\n",
    "box_office <- c(460.998, 314.4, 290.475, 247.900, 309.306, 165.8)\n",
    "region <- c(\"US\", \"non-US\")\n",
    "titles <- c(\"A New Hope\", \n",
    "                 \"The Empire Strikes Back\", \n",
    "                 \"Return of the Jedi\")\n",
    "               \n",
    "star_wars_matrix <- matrix(box_office, \n",
    "                      nrow = 3, byrow = TRUE,\n",
    "                      dimnames = list(titles, region))\n",
    "\n",
    "# Calculate worldwide box office figures\n",
    "worldwide_vector <- "
   ]
  },
  {
   "cell_type": "markdown",
   "metadata": {},
   "source": [
    "## Agregando una columna para la taquilla mundial\n",
    "\n",
    "En el ejercicio anterior calculaste el vector que contenía la recaudación mundial de taquilla para cada una de las tres películas de Star Wars. Sin embargo, este vector aún no forma parte de `star_wars_matrix`.\n",
    "\n",
    "Puedes agregar una columna o múltiples columnas a una matriz con la función `cbind()`, que combina matrices y/o vectores por columna. Por ejemplo:\n",
    "\n",
    "```r\n",
    "big_matrix <- cbind(matrix1, matrix2, vector1 …)\n",
    "```\n",
    "\n",
    "**Instrucciones**\n",
    "\n",
    "- Agrega `worldwide_vector` como una nueva columna a `star_wars_matrix` y asigna el resultado a `all_wars_matrix`. Usa la función `cbind()`."
   ]
  },
  {
   "cell_type": "code",
   "execution_count": 5,
   "metadata": {
    "vscode": {
     "languageId": "r"
    }
   },
   "outputs": [],
   "source": [
    "# Construct star_wars_matrix\n",
    "box_office <- c(460.998, 314.4, 290.475, 247.900, 309.306, 165.8)\n",
    "region <- c(\"US\", \"non-US\")\n",
    "titles <- c(\"A New Hope\", \n",
    "            \"The Empire Strikes Back\", \n",
    "            \"Return of the Jedi\")\n",
    "               \n",
    "star_wars_matrix <- matrix(box_office, \n",
    "                      nrow = 3, byrow = TRUE,\n",
    "                      dimnames = list(titles, region))\n",
    "\n",
    "# The worldwide box office figures\n",
    "worldwide_vector <- rowSums(star_wars_matrix)\n",
    "\n",
    "# Bind the new variable worldwide_vector as a column to star_wars_matrix\n",
    "all_wars_matrix <- cbind(star_wars_matrix, worldwide_vector)"
   ]
  },
  {
   "cell_type": "markdown",
   "metadata": {},
   "source": [
    "## Agregando una fila\n",
    "\n",
    "Así como toda acción tiene una reacción, todo `cbind()` tiene un `rbind()`. (Lo admitimos, no somos muy buenos con las metáforas).\n",
    "\n",
    "Tu espacio de trabajo en R, donde 'viven' todas las variables que has definido ([**consulta qué es un espacio de trabajo**](http://www.statmethods.net/interface/workspace.html)), ya ha sido inicializado y contiene dos matrices:\n",
    "\n",
    "- `star_wars_matrix`, que hemos estado usando todo el tiempo, con datos sobre la trilogía original.\n",
    "- `star_wars_matrix2`, con datos similares para la trilogía de precuelas.\n",
    "\n",
    "Explora estas matrices en la consola si quieres observarlas más de cerca. Si deseas revisar el contenido del espacio de trabajo, puedes escribir `ls()` en la consola.\n",
    "\n",
    "**Instrucciones  \n",
    "100 XP**\n",
    "\n",
    "Usa `rbind()` para unir `star_wars_matrix` y `star_wars_matrix2`, en ese orden. Asigna la matriz resultante a `all_wars_matrix`."
   ]
  },
  {
   "cell_type": "code",
   "execution_count": 7,
   "metadata": {
    "vscode": {
     "languageId": "r"
    }
   },
   "outputs": [],
   "source": [
    "box_office <- c(474.5, 552.5, 310.7, 338.7, 380.3, 468.5)\n",
    "region <- c(\"US\", \"non-US\")\n",
    "titles <- c(\"The Phantom Menace\",\n",
    "            \"Attack of the Clones\",\n",
    "            \"Revenge of the Sith\")\n",
    "\n",
    "star_wars_matrix2 <- matrix(box_office, \n",
    "                      nrow = 3, byrow = TRUE,\n",
    "                      dimnames = list(titles, region))"
   ]
  },
  {
   "cell_type": "code",
   "execution_count": null,
   "metadata": {
    "vscode": {
     "languageId": "r"
    }
   },
   "outputs": [],
   "source": [
    "# star_wars_matrix and star_wars_matrix2 are available in your workspace\n",
    "star_wars_matrix  \n",
    "star_wars_matrix2 \n",
    "\n",
    "# Combine both Star Wars trilogies in one matrix\n",
    "all_wars_matrix <- "
   ]
  },
  {
   "cell_type": "markdown",
   "metadata": {},
   "source": [
    "## La recaudación total en taquilla de toda la saga\n",
    "\n",
    "Así como `cbind()` tiene su equivalente `rbind()`, `colSums()` tiene su equivalente `rowSums()`. Tu espacio de trabajo en R ya contiene la matriz `all_wars_matrix` que construiste en el ejercicio anterior; escribe `all_wars_matrix` para verla de nuevo. Ahora, calculemos la recaudación total en taquilla de toda la saga.\n",
    "\n",
    "**Instrucciones** \n",
    "\n",
    "- Calcula la recaudación total para la región de EE. UU. y la región fuera de EE. UU. y asigna el resultado a `total_revenue_vector`. Puedes usar la función `colSums()`."
   ]
  },
  {
   "cell_type": "code",
   "execution_count": null,
   "metadata": {
    "vscode": {
     "languageId": "r"
    }
   },
   "outputs": [],
   "source": [
    "# all_wars_matrix is available in your workspace\n",
    "all_wars_matrix\n",
    "\n",
    "# Total revenue for US and non-US\n",
    "total_revenue_vector <- \n",
    "  \n",
    "# Print out total_revenue_vector"
   ]
  },
  {
   "cell_type": "markdown",
   "metadata": {},
   "source": [
    "## Selección de elementos de una matriz\n",
    "\n",
    "Al igual que con los vectores, puedes usar corchetes `[ ]` para seleccionar uno o varios elementos de una matriz. Mientras que los vectores tienen una dimensión, las matrices tienen dos dimensiones. Por lo tanto, debes usar una coma para separar las filas que quieres seleccionar de las columnas. Por ejemplo:\n",
    "\n",
    "- `my_matrix[1,2]` selecciona el elemento en la primera fila y segunda columna.\n",
    "- `my_matrix[1:3,2:4]` da como resultado una matriz con los datos de las filas 1, 2, 3 y las columnas 2, 3, 4.\n",
    "\n",
    "Si quieres seleccionar todos los elementos de una fila o columna, no es necesario poner un número antes o después de la coma, respectivamente:\n",
    "\n",
    "- `my_matrix[,1]` selecciona todos los elementos de la primera columna.\n",
    "- `my_matrix[1,]` selecciona todos los elementos de la primera fila.\n",
    "\n",
    "¡Volvamos a Star Wars con este conocimiento recién adquirido! Como en el ejercicio anterior, `all_wars_matrix` ya está disponible en tu espacio de trabajo.\n",
    "\n",
    "**Instrucciones**\n",
    "\n",
    "- Selecciona la recaudación fuera de EE. UU. para todas las películas (toda la segunda columna de `all_wars_matrix`), guarda el resultado como `non_us_all`.\n",
    "- Usa `mean()` sobre `non_us_all` para calcular el promedio de recaudación fuera de EE. UU. para todas las películas. Imprime simplemente el resultado.\n",
    "- Ahora selecciona la recaudación fuera de EE. UU. para las dos primeras películas en `all_wars_matrix`. Guarda el resultado como `non_us_some`.\n",
    "- Usa `mean()` nuevamente para imprimir el promedio de los valores en `non_us_some`."
   ]
  },
  {
   "cell_type": "code",
   "execution_count": null,
   "metadata": {
    "vscode": {
     "languageId": "r"
    }
   },
   "outputs": [],
   "source": [
    "# all_wars_matrix is available in your workspace\n",
    "all_wars_matrix\n",
    "\n",
    "# Select the non-US revenue for all movies\n",
    "non_us_all <- \n",
    "  \n",
    "# Average non-US revenue\n",
    "\n",
    "  \n",
    "# Select the non-US revenue for first two movies\n",
    "non_us_some <- \n",
    "  \n",
    "# Average non-US revenue for first two movies\n"
   ]
  },
  {
   "cell_type": "markdown",
   "metadata": {},
   "source": [
    "## Un poco de aritmética con matrices\n",
    "\n",
    "Al igual que lo que has aprendido con los vectores, los operadores estándar como `+`, `-`, `/`, `*`, etc., funcionan de manera elemento por elemento en matrices en R.\n",
    "\n",
    "Por ejemplo, `2 * my_matrix` multiplica cada elemento de `my_matrix` por dos.\n",
    "\n",
    "Como nuevo analista de datos contratado por Lucasfilm, tu trabajo es averiguar cuántos visitantes asistieron a cada película en cada área geográfica. Ya tienes las cifras de recaudación total en `all_wars_matrix`. Supón que el precio del boleto era de 5 dólares. Simplemente dividiendo las cifras de taquilla por este precio obtienes el número de visitantes.\n",
    "\n",
    "**Instrucciones**\n",
    "\n",
    "- Divide `all_wars_matrix` entre 5, obteniendo el número de visitantes en millones. Asigna la matriz resultante a `visitors`.\n",
    "- Imprime `visitors` para que puedas revisarla."
   ]
  },
  {
   "cell_type": "code",
   "execution_count": null,
   "metadata": {
    "vscode": {
     "languageId": "r"
    }
   },
   "outputs": [],
   "source": [
    "# all_wars_matrix is available in your workspace\n",
    "all_wars_matrix\n",
    "\n",
    "# Estimate the visitors\n",
    "visitors <-\n",
    "  \n",
    "# Print the estimate to the console\n"
   ]
  },
  {
   "cell_type": "markdown",
   "metadata": {},
   "source": [
    "## Un poco de aritmética con matrices (2)\n",
    "\n",
    "Así como `2 * my_matrix` multiplica cada elemento de `my_matrix` por dos, `my_matrix1 * my_matrix2` crea una matriz donde cada elemento es el producto de los elementos correspondientes en `my_matrix1` y `my_matrix2`.\n",
    "\n",
    "Después de ver el resultado del ejercicio anterior, el gran jefe Lucas señala que los precios de los boletos aumentaron con el tiempo. Te pide rehacer el análisis basándote en los precios que puedes encontrar en `ticket_prices_matrix` (fuente: imaginación).\n",
    "\n",
    "*Quienes estén familiarizados con matrices deben notar que esta no es la multiplicación matricial estándar, para la cual se debe usar `%*%` en R.*\n",
    "\n",
    "**Instrucciones**\n",
    "\n",
    "- Divide `all_wars_matrix` entre `ticket_prices_matrix` para obtener el número estimado de visitantes en EE. UU. y fuera de EE. UU. para las seis películas. Asigna el resultado a `visitors`.\n",
    "- De la matriz `visitors`, selecciona toda la primera columna, que representa el número de visitantes en EE. UU. Guarda esta selección como `us_visitors`.\n",
    "- Calcula el promedio del número de visitantes en EE. UU.; imprime el resultado."
   ]
  },
  {
   "cell_type": "code",
   "execution_count": null,
   "metadata": {
    "vscode": {
     "languageId": "r"
    }
   },
   "outputs": [],
   "source": [
    "# all_wars_matrix and ticket_prices_matrix are available in your workspace\n",
    "all_wars_matrix\n",
    "ticket_prices_matrix\n",
    "\n",
    "# Estimated number of visitors\n",
    "visitors <- \n",
    "\n",
    "# US visitors\n",
    "us_visitors <- \n",
    "\n",
    "# Average number of US visitors"
   ]
  },
  {
   "cell_type": "markdown",
   "metadata": {},
   "source": []
  }
 ],
 "metadata": {
  "kernelspec": {
   "display_name": "R",
   "language": "R",
   "name": "ir"
  },
  "language_info": {
   "codemirror_mode": "r",
   "file_extension": ".r",
   "mimetype": "text/x-r-source",
   "name": "R",
   "pygments_lexer": "r",
   "version": "4.2.3"
  }
 },
 "nbformat": 4,
 "nbformat_minor": 2
}
