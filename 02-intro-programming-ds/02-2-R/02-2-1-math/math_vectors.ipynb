{
 "cells": [
  {
   "cell_type": "markdown",
   "metadata": {},
   "source": [
    "# 2.2.1. Números & Aritmética\n",
    "\n",
    "## Aritmética con R\n",
    "\n",
    "En su forma más básica, R puede utilizarse como una calculadora simple.  Considera los siguientes operadores aritméticos:\n",
    "\n",
    "- Suma: +\n",
    "- Resta: -\n",
    "- Multiplicación: *\n",
    "- División: /\n",
    "- Exponenciación: ^\n",
    "- Módulo: %%\n",
    "\n",
    "Instrucciones:\n",
    "\n",
    "- Type 2^5 in the editor to calculate 2 to the power 5.\n",
    "- Type 28 %% 6 to calculate 28 modulo 6.\n"
   ]
  },
  {
   "cell_type": "code",
   "execution_count": null,
   "metadata": {
    "vscode": {
     "languageId": "r"
    }
   },
   "outputs": [],
   "source": [
    "# An addition\n",
    "5 + 5\n",
    "\n",
    "# A subtraction\n",
    "5 - 5\n",
    "\n",
    "# A multiplication\n",
    "3 * 5\n",
    "\n",
    "# A division\n",
    "(5 + 5) / 2\n",
    "\n",
    "# Exponentiation\n",
    "\n",
    "\n",
    "# Modulo"
   ]
  },
  {
   "cell_type": "markdown",
   "metadata": {},
   "source": [
    "### Asignación de variables\n",
    "Un concepto básico en la programación (estadística) se llama variable.\n",
    "\n",
    "Una variable te permite almacenar un valor (por ejemplo, 4) o un objeto \n",
    "(por ejemplo, la descripción de una función) en R. Luego, puedes usar el nombre \n",
    "de esta variable para acceder fácilmente al valor u objeto que está almacenado \n",
    "en ella.\n",
    "\n",
    "Puedes asignar el valor 4 a una variable llamada `my_var` con el siguiente \n",
    "comando:\n",
    "\n",
    "```r\n",
    "my_var <- 4\n",
    "```\n",
    "\n",
    "Instrucciones:\n",
    "\n",
    "Completa el código en el editor de manera que asigne el valor 42 a la variable \n",
    "x en el editor. Envía la respuesta. \n",
    "\n",
    "Observa que, cuando le pides a R que  imprima x, aparece el valor 42."
   ]
  },
  {
   "cell_type": "code",
   "execution_count": null,
   "metadata": {
    "vscode": {
     "languageId": "r"
    }
   },
   "outputs": [],
   "source": [
    "# Assign the value 42 to x\n",
    "x <- 42\n",
    "\n",
    "# Print out the value of the variable x\n",
    "x"
   ]
  },
  {
   "cell_type": "markdown",
   "metadata": {},
   "source": [
    "### Asignación de variables (2)\n",
    "\n",
    "Asignación de variables (2)\n",
    "Supongamos que tienes una canasta de frutas con cinco manzanas. Como analista de datos en formación, quieres almacenar el número de manzanas en una variable con el nombre my_apples.\n",
    "\n",
    "Instrucciones\n",
    "\n",
    "- Escribe el siguiente código en el editor: `my_apples <- 5`. Esto asignará el valor `5` a `my_apples`.\n",
    "- Escribe: `my_apples` debajo del segundo comentario. Esto imprimirá el valor de `my_apples`.\n",
    "- Envía tu respuesta y observa la salida: verás que se imprime el número `5`. Así, R ahora vincula la variable `my_apples` con el valor `5`."
   ]
  },
  {
   "cell_type": "code",
   "execution_count": null,
   "metadata": {
    "vscode": {
     "languageId": "r"
    }
   },
   "outputs": [],
   "source": [
    "# Assign the value 5 to the variable my_apples\n",
    "my_apples <- 5\n",
    "\n",
    "# Print out the value of the variable my_apples\n",
    "my_apples"
   ]
  },
  {
   "cell_type": "markdown",
   "metadata": {},
   "source": [
    "### Asignación de variables (3)\n",
    "\n",
    "Toda canasta de frutas sabrosa necesita naranjas, así que decides agregar seis naranjas. Como analista de datos, tu reflejo es crear inmediatamente la variable `my_oranges` y asignarle el valor `6`. Luego, quieres calcular cuántas piezas de fruta tienes en total. Como les diste nombres significativos a estas variables, ahora puedes escribir el código de una manera clara:\n",
    "\n",
    "```r\n",
    "my_apples + my_oranges\n",
    "```\n",
    "\n",
    "Instrucciones\n",
    "\n",
    "- Asigna el valor 6 a la variable my_oranges.\n",
    "- Suma las variables my_apples y my_oranges y haz que R imprima simplemente el resultado.\n",
    "- Asigna el resultado de sumar my_apples y my_oranges a una nueva variable llamada my_fruit."
   ]
  },
  {
   "cell_type": "code",
   "execution_count": null,
   "metadata": {
    "vscode": {
     "languageId": "r"
    }
   },
   "outputs": [],
   "source": [
    "# Assign a value to the variables my_apples and my_oranges\n",
    "my_apples <- 5\n",
    "my_oranges <- 6\n",
    "\n",
    "# Add these two variables together\n",
    "my_apples + my_oranges\n",
    "\n",
    "# Create the variable my_fruit\n",
    "my_fruit = my_apples + my_oranges"
   ]
  },
  {
   "cell_type": "markdown",
   "metadata": {},
   "source": [
    "### Manzanas y naranjas\n",
    "\n",
    "El sentido común dice que no debes sumar manzanas y naranjas. Pero, \n",
    "¡eso es exactamente lo que acabas de hacer, ¿no?! 😄\n",
    "Las variables `my_apples` y `my_oranges` contenían un número en el ejercicio \n",
    "anterior. El operador `+` funciona con variables numéricas en R.\n",
    "\n",
    "Si realmente intentaras sumar “apples” y “oranges”, y asignaras un valor \n",
    "de texto a la variable `my_oranges` (como puedes ver en el editor), estarías \n",
    "intentando sumar una variable numérica y una variable de tipo texto y \n",
    "asignar ese resultado a la variable `my_fruit`. Esto no es posible.\n",
    "\n",
    "**Instrucciones**\n",
    "\n",
    "1.\tEnvía la respuesta y lee el mensaje de error. Asegúrate de entender por qué no funcionó.\n",
    "2.\tAjusta el código para que R sepa que tienes 6 naranjas, y así una canasta  de frutas con 11 piezas de fruta."
   ]
  },
  {
   "cell_type": "code",
   "execution_count": null,
   "metadata": {
    "vscode": {
     "languageId": "r"
    }
   },
   "outputs": [],
   "source": [
    "# Assign a value to the variable my_apples\n",
    "my_apples <- 5\n",
    "\n",
    "# Fix the assignment of my_oranges\n",
    "my_oranges <- \"six\"\n",
    "\n",
    "# Create the variable my_fruit and print it out\n",
    "my_fruit <- my_apples + my_oranges\n",
    "my_fruit"
   ]
  },
  {
   "cell_type": "code",
   "execution_count": null,
   "metadata": {
    "vscode": {
     "languageId": "r"
    }
   },
   "outputs": [],
   "source": []
  },
  {
   "cell_type": "markdown",
   "metadata": {},
   "source": [
    "### Tipos de datos básicos en R\n",
    "\n",
    "R trabaja con numerosos tipos de datos. Algunos de los tipos más básicos \n",
    "para comenzar son:\n",
    "- Los valores decimales como `4.5` se llaman numéricos (**numerics**).\n",
    "- Los números enteros como `4` se llaman enteros (**integers**). Los \n",
    "    enteros también son numéricos.\n",
    "- Los valores booleanos (`TRUE` o `FALSE`) se llaman lógicos (**logical**).\n",
    "- Los valores de texto (o cadenas de caracteres) se llaman caracteres \n",
    "    (**characters**).\n",
    "\n",
    "Observa cómo las comillas en el editor indican que `\"algún texto\"` es una \n",
    "cadena de caracteres (**string**).\n",
    "\n",
    "**Instrucciones**\n",
    "\n",
    "Cambia el valor de las siguientes variables:\n",
    "- La variable `my_numeric` a `42`.\n",
    "- La variable `my_character` a `“universe”`. Nota que las comillas indican que `'universe'` es un valor de tipo carácter.\n",
    "- La variable `my_logical` a `FALSE`.\n",
    "\n",
    "¡Recuerda que R distingue entre mayúsculas y minúsculas!"
   ]
  },
  {
   "cell_type": "code",
   "execution_count": 7,
   "metadata": {
    "vscode": {
     "languageId": "r"
    }
   },
   "outputs": [],
   "source": [
    "# Change my_numeric to be 42\n",
    "my_numeric <- 42.5\n",
    "\n",
    "# Change my_character to be \"universe\"\n",
    "my_character <- \"some text\"\n",
    "\n",
    "# Change my_logical to be FALSE\n",
    "my_logical <- TRUE"
   ]
  },
  {
   "cell_type": "markdown",
   "metadata": {},
   "source": [
    "### ¿Qué tipo de dato es ese?\n",
    "\n",
    "¿Recuerdas que cuando intentaste sumar `5 + 'six'` obtuviste un error debido\n",
    "a una incompatibilidad de tipos de datos? Puedes evitar este tipo de\n",
    "situaciones revisando el tipo de dato de una variable antes de operar con ella.\n",
    "Puedes hacer esto utilizando la función `class()`, como muestra el código en el\n",
    "editor.\n",
    "\n",
    "**Instrucciones**\n",
    "- Completa el código en el editor e imprime también las clases de las variables\n",
    " `my_character` y `my_logical`."
   ]
  },
  {
   "cell_type": "code",
   "execution_count": null,
   "metadata": {
    "vscode": {
     "languageId": "r"
    }
   },
   "outputs": [],
   "source": [
    "# Declare variables of different types\n",
    "my_numeric <- 42\n",
    "my_character <- \"universe\"\n",
    "my_logical <- FALSE\n",
    "\n",
    "# Check class of my_numeric\n",
    "class(my_numeric)\n",
    "\n",
    "# Check class of my_character\n",
    "\n",
    "\n",
    "# Check class of my_logical\n",
    "\n",
    "\n",
    "# Check type of my_numeric"
   ]
  },
  {
   "cell_type": "markdown",
   "metadata": {},
   "source": [
    "## Vectores\n",
    "\n",
    "### Crear un vector\n",
    "\n",
    "Este sección te mostrará cómo puedes llevar un registro sencillo de tu progreso\n",
    "en las apuestas y cómo hacer análisis simples de tus acciones pasadas. \n",
    "Próxima parada: ¡Vegas, Baby… VEGAS!\n",
    "\n",
    "**Instrucciones**\n",
    "\n",
    "Asigna el valor `\"Go!\"` a la variable `vegas`.\n",
    "¡Recuerda: R distingue entre mayúsculas y minúsculas!"
   ]
  },
  {
   "cell_type": "code",
   "execution_count": null,
   "metadata": {
    "vscode": {
     "languageId": "r"
    }
   },
   "outputs": [],
   "source": [
    "# Define the variable vegas\n",
    "vegas <- "
   ]
  },
  {
   "cell_type": "markdown",
   "metadata": {},
   "source": [
    "### Crear un vector (2)\n",
    "\n",
    "En tu camino de la pobreza a la riqueza, harás un uso intensivo de los vectores.\n",
    "Los vectores son arreglos unidimensionales que pueden contener datos numéricos,\n",
    "datos de texto (caracteres) o datos lógicos (booleanos). En otras palabras, un\n",
    "vector es una herramienta sencilla para almacenar datos. Por ejemplo, puedes\n",
    "almacenar tus ganancias y pérdidas diarias en los casinos.\n",
    "\n",
    "En R, creas un vector con la función `c()`. Colocas los elementos del vector,\n",
    "separados por comas, entre paréntesis. Por ejemplo:\n",
    "\n",
    "```r\n",
    "numeric_vector <- c(1, 2, 3)\n",
    "character_vector <- c('a', 'b', 'c')\n",
    "```\n",
    "\n",
    "Una vez que has creado estos vectores en R, puedes utilizarlos para hacer\n",
    "cálculos.\n",
    "\n",
    "**Instrucciones**\n",
    "\n",
    "Completa el código de manera que boolean_vector contenga los tres elementos:\n",
    "`TRUE`, `FALSE` y `TRUE` (en ese orden)."
   ]
  },
  {
   "cell_type": "code",
   "execution_count": null,
   "metadata": {
    "vscode": {
     "languageId": "r"
    }
   },
   "outputs": [],
   "source": [
    "numeric_vector <- c(1, 10, 49)\n",
    "character_vector <- c(\"a\", \"b\", \"c\")\n",
    "\n",
    "# Complete the code for boolean_vector\n",
    "boolean_vector <-"
   ]
  },
  {
   "cell_type": "markdown",
   "metadata": {},
   "source": [
    "### Crear un vector (3)\n",
    "\n",
    "Después de una semana en Las Vegas, decides que es momento de comenzar a usar tus superpoderes de análisis de datos.\n",
    "\n",
    "Antes de hacer un primer análisis, decides primero recopilar todas las ganancias y pérdidas de la última semana:\n",
    "\n",
    "Para `poker_vector`:\n",
    "- El lunes ganaste $140\n",
    "- El martes perdiste $50\n",
    "- El miércoles ganaste $20\n",
    "- El jueves perdiste $120\n",
    "- El viernes ganaste $240\n",
    "\n",
    "Para `roulette_vector`:\n",
    "- El lunes perdiste $24\n",
    "- El martes perdiste $50\n",
    "- El miércoles ganaste $100\n",
    "- El jueves perdiste $350\n",
    "- El viernes ganaste $10\n",
    "\n",
    "\n",
    "**Instrucciones**\n",
    "\n",
    "- Asigna las ganancias/pérdidas de la ruleta a la variable `roulette_vector`. Perdiste $24, luego perdiste $50, ganaste $100, perdiste $350 y ganaste $10."
   ]
  },
  {
   "cell_type": "code",
   "execution_count": null,
   "metadata": {
    "vscode": {
     "languageId": "r"
    }
   },
   "outputs": [],
   "source": [
    "# Poker winnings from Monday to Friday\n",
    "poker_vector <- c(140, -50, 20, -120, 240)\n",
    "\n",
    "# Roulette winnings from Monday to Friday\n",
    "roulette_vector <-"
   ]
  },
  {
   "cell_type": "markdown",
   "metadata": {},
   "source": [
    "### Nombrando un vector\n",
    "\n",
    "Como analista de datos, es importante tener una visión clara de los datos que  estás utilizando. Comprender a qué se refiere cada elemento es esencial.\n",
    "\n",
    "En el ejercicio anterior, creamos un vector con tus ganancias durante la  semana. Cada elemento del vector se refiere a un día de la semana, pero es  difícil saber a qué día pertenece cada elemento. Sería útil que esa información estuviera incluida directamente en el vector.\n",
    "\n",
    "Puedes asignar un nombre a los elementos de un vector usando la función `names()`. Mira este ejemplo:\n",
    "\n",
    "```r\n",
    "some_vector <- c('John Doe', 'poker player')\n",
    "names(some_vector) <- c('Name', 'Profession')\n",
    "```\n",
    "\n",
    "Este código primero crea un vector llamado some_vector y luego da un nombre a \n",
    "cada uno de los dos elementos. El primer elemento se nombra Name, mientras que \n",
    "el segundo se etiqueta como Profession. Al imprimir el contenido, se obtiene el \n",
    "siguiente resultado:\n",
    "\n",
    "```text\n",
    "Name        Profession \n",
    "\"John Doe\"  \"poker player\"\n",
    "```\n",
    "\n",
    "**Instrucciones**\n",
    "\n",
    "El código en el editor ya asigna los nombres de los días de la semana a los  elementos del vector `poker_vector`.\n",
    "- Agrega código para hacer lo mismo con el vector `roulette_vector`."
   ]
  },
  {
   "cell_type": "code",
   "execution_count": null,
   "metadata": {
    "vscode": {
     "languageId": "r"
    }
   },
   "outputs": [],
   "source": [
    "# Poker winnings from Monday to Friday\n",
    "poker_vector <- c(140, -50, 20, -120, 240)\n",
    "\n",
    "# Roulette winnings from Monday to Friday\n",
    "roulette_vector <- c(-24, -50, 100, -350, 10)\n",
    "\n",
    "# Assign days as names of poker_vector\n",
    "names(poker_vector) <- c(\"Monday\", \"Tuesday\", \"Wednesday\", \"Thursday\", \"Friday\")\n",
    "\n",
    "# Assign days as names of roulette_vector"
   ]
  },
  {
   "cell_type": "markdown",
   "metadata": {},
   "source": [
    "## Nombrando un vector (2)\n",
    "\n",
    "Si quieres convertirte en un buen estadístico, debes volverte eficiente.\n",
    "\n",
    "Así como hiciste con tus ganancias en póker y ruleta, también puedes crear una  variable que contenga los días de la semana. De esta manera, puedes usarla y  reutilizarla cuando la necesites.\n",
    "\n",
    "**Instrucciones**\n",
    "\n",
    "Ya se ha creado para ti una variable llamada `days_vector` que contiene los días  de la semana.\n",
    "- Utiliza `days_vector` para asignar los nombres de los vectores `poker_vector` y  `roulette_vector`."
   ]
  },
  {
   "cell_type": "code",
   "execution_count": null,
   "metadata": {
    "vscode": {
     "languageId": "r"
    }
   },
   "outputs": [],
   "source": [
    "# Poker winnings from Monday to Friday\n",
    "poker_vector <- c(140, -50, 20, -120, 240)\n",
    "\n",
    "# Roulette winnings from Monday to Friday\n",
    "roulette_vector <- c(-24, -50, 100, -350, 10)\n",
    "\n",
    "# The variable days_vector\n",
    "days_vector <- c(\"Monday\", \"Tuesday\", \"Wednesday\", \"Thursday\", \"Friday\")\n",
    " \n",
    "# Assign the names of the day to roulette_vector and poker_vector\n",
    "names(poker_vector) <- \n",
    "names(roulette_vector) <- "
   ]
  },
  {
   "cell_type": "markdown",
   "metadata": {},
   "source": [
    "### Calculando ganancias totales\n",
    "\n",
    "Ahora que tienes las ganancias del póker y la ruleta organizadas como vectores con nombres, puedes comenzar a hacer un poco de magia analítica con los datos.\n",
    "\n",
    "Quieres averiguar la siguiente información:\n",
    "- ¿Cuál ha sido tu ganancia o pérdida total por día de la semana?\n",
    "- ¿Has perdido dinero en total durante la semana?\n",
    "- ¿Estás ganando o perdiendo dinero en póker o en ruleta?\n",
    "\n",
    "Para obtener las respuestas, necesitas realizar cálculos aritméticos sobre  vectores.\n",
    "\n",
    "Es importante saber que si sumas dos vectores en R, se realiza la suma elemento  a elemento. Por ejemplo, las siguientes tres instrucciones son completamente equivalentes:\n",
    "\n",
    "```r\n",
    "c(1, 2, 3) + c(4, 5, 6)\n",
    "c(1 + 4, 2 + 5, 3 + 6)\n",
    "c(5, 7, 9)\n",
    "\n",
    "```\n",
    "También puedes hacer los cálculos usando variables que representan vectores:\n",
    "\n",
    "```r\n",
    "a <- c(1, 2, 3)\n",
    "b <- c(4, 5, 6)\n",
    "c <- a + b\n",
    "```\n",
    "\n",
    "**Instrucciones**\n",
    "\n",
    "- Suma las variables `A_vector` y `B_vector` y asigna el resultado a la variable `total_vector`.\n",
    "- Inspecciona el resultado imprimiendo `total_vector`."
   ]
  },
  {
   "cell_type": "code",
   "execution_count": null,
   "metadata": {
    "vscode": {
     "languageId": "r"
    }
   },
   "outputs": [],
   "source": [
    "# Take the sum of A_vector and B_vector\n",
    "total_vector <- \n",
    "  \n",
    "# Print out total_vector"
   ]
  },
  {
   "cell_type": "markdown",
   "metadata": {},
   "source": [
    "### Calculando ganancias totales (2)\n",
    "\n",
    "Ahora que entiendes cómo R realiza operaciones aritméticas con vectores, ¡es momento de conseguir esos Ferraris en tu cochera! Primero, necesitas saber cuál fue tu ganancia o pérdida total por día de la semana.\n",
    "La ganancia diaria total es la suma de la ganancia/pérdida que obtuviste en póker por día y la ganancia/pérdida que obtuviste en ruleta por día.\n",
    "\n",
    "En R, esto simplemente es la suma de `roulette_vector` y `poker_vector`.\n",
    "\n",
    "**Instrucciones**\n",
    "\n",
    "- Asigna a la variable `total_daily` cuánto ganaste o perdiste en total cada día (sumando póker y ruleta)."
   ]
  },
  {
   "cell_type": "code",
   "execution_count": null,
   "metadata": {
    "vscode": {
     "languageId": "r"
    }
   },
   "outputs": [],
   "source": [
    "\n",
    "# Poker and roulette winnings from Monday to Friday:\n",
    "poker_vector <- c(140, -50, 20, -120, 240)\n",
    "roulette_vector <- c(-24, -50, 100, -350, 10)\n",
    "days_vector <- c(\"Monday\", \"Tuesday\", \"Wednesday\", \"Thursday\", \"Friday\")\n",
    "names(poker_vector) <- days_vector\n",
    "names(roulette_vector) <- days_vector\n",
    "\n",
    "# Assign to total_daily how much you won/lost on each day\n",
    "total_daily <- "
   ]
  },
  {
   "cell_type": "markdown",
   "metadata": {},
   "source": [
    "### Calculando ganancias totales (3)\n",
    "\n",
    "Según el análisis previo, parece que tuviste una mezcla de buenos y malos días. Esto no es lo que tu ego esperaba, y te preguntas si existe una pequeña \n",
    "posibilidad de que hayas perdido dinero en total durante la semana.\n",
    "\n",
    "Una función que te ayuda a responder esta pregunta es `sum()`. Esta calcula la suma de todos los elementos de un vector. Por ejemplo, para calcular el total \n",
    "de dinero que has ganado/perdido con el póker, haces:\n",
    "\n",
    "```r\n",
    "total_poker <- sum(poker_vector)\n",
    "```\n",
    "\n",
    "**Instrucciones**\n",
    "\n",
    "- Calcula la cantidad total de dinero que has ganado/perdido con la ruleta y asígnala a la variable `total_roulette`.\n",
    "- Ahora que tienes los totales para ruleta y póker, puedes calcular fácilmente `total_week` (que es la suma de todas las ganancias y pérdidas de la semana).\n",
    "- Imprime `total_week`."
   ]
  },
  {
   "cell_type": "code",
   "execution_count": null,
   "metadata": {
    "vscode": {
     "languageId": "r"
    }
   },
   "outputs": [],
   "source": [
    "# Poker and roulette winnings from Monday to Friday:\n",
    "poker_vector <- c(140, -50, 20, -120, 240)\n",
    "roulette_vector <- c(-24, -50, 100, -350, 10)\n",
    "days_vector <- c(\"Monday\", \"Tuesday\", \"Wednesday\", \"Thursday\", \"Friday\")\n",
    "names(poker_vector) <- days_vector\n",
    "names(roulette_vector) <- days_vector\n",
    "\n",
    "# Total winnings with poker\n",
    "total_poker <- sum(poker_vector)\n",
    "\n",
    "# Total winnings with roulette\n",
    "total_roulette <-  \n",
    "\n",
    "# Total winnings overall\n",
    "total_week <- \n",
    "\n",
    "# Print out total_week"
   ]
  },
  {
   "cell_type": "markdown",
   "metadata": {},
   "source": [
    "### Comparando ganancias totales\n",
    "\n",
    "Ups, parece que estás perdiendo dinero. ¡Hora de repensar y adaptar tu estrategia! Esto requerirá un análisis más profundo…\n",
    "\n",
    "Después de una breve sesión de ideas en el jacuzzi del hotel, te das cuenta de que una posible explicación podría ser que tus habilidades en la ruleta no están tan desarrolladas como tus habilidades en el póker. Así que, tal vez, tus ganancias totales en póker son mayores (o >) que en ruleta.\n",
    "\n",
    "**Instrucciones**\n",
    "\n",
    "- Calcula `total_poker` y `total_roulette` como en el ejercicio anterior. Usa la función `sum() `dos veces.\n",
    "- Comprueba si tus ganancias totales en póker son mayores que en ruleta utilizando una comparación. \n",
    "- Simplemente imprime el resultado de esta comparación.\n",
    "\n",
    "¿Qué concluyes? ¿Deberías enfocarte en la ruleta o en el póker?"
   ]
  },
  {
   "cell_type": "code",
   "execution_count": null,
   "metadata": {
    "vscode": {
     "languageId": "r"
    }
   },
   "outputs": [],
   "source": [
    "# Poker and roulette winnings from Monday to Friday:\n",
    "poker_vector <- c(140, -50, 20, -120, 240)\n",
    "roulette_vector <- c(-24, -50, 100, -350, 10)\n",
    "days_vector <- c(\"Monday\", \"Tuesday\", \"Wednesday\", \"Thursday\", \"Friday\")\n",
    "names(poker_vector) <- days_vector\n",
    "names(roulette_vector) <- days_vector\n",
    "\n",
    "# Calculate total gains for poker and roulette\n",
    "total_poker <-\n",
    "total_roulette <-\n",
    "\n",
    "# Check if you realized higher total gains in poker than in roulette"
   ]
  },
  {
   "cell_type": "markdown",
   "metadata": {},
   "source": [
    "### Selección de vectores: los buenos tiempos\n",
    "\n",
    "Tu intuición parecía ser correcta. Parece que el juego de póker es más lo tuyo que la ruleta.\n",
    "\n",
    "Otra posible línea de investigación es tu rendimiento al principio de la semana laboral en comparación con el final de la misma. Después de todo, tomaste un par de cócteles Margarita al final de la semana…\n",
    "\n",
    "Para responder a esa pregunta, solo quieres enfocarte en una selección del `total_vector`. En otras palabras, el objetivo es seleccionar elementos \n",
    "específicos del vector. Para seleccionar elementos de un vector (y más adelante de matrices, data frames, etc.), puedes usar corchetes. Entre los corchetes, \n",
    "indicas qué elementos seleccionar. Por ejemplo, para seleccionar el primer elemento del vector, escribes `poker_vector[1]`. Para seleccionar el segundo elemento, escribes `poker_vector[2],` etc. \n",
    "\n",
    "Nota que el primer elemento en un vector tiene índice 1, no 0 como en muchos otros lenguajes de programación.\n",
    "\n",
    "**Instrucciones**\n",
    "\n",
    "Asigna el resultado del póker del miércoles a la variable `poker_wednesday`."
   ]
  },
  {
   "cell_type": "code",
   "execution_count": null,
   "metadata": {
    "vscode": {
     "languageId": "r"
    }
   },
   "outputs": [],
   "source": [
    "# Poker and roulette winnings from Monday to Friday:\n",
    "poker_vector <- c(140, -50, 20, -120, 240)\n",
    "roulette_vector <- c(-24, -50, 100, -350, 10)\n",
    "days_vector <- c(\"Monday\", \"Tuesday\", \"Wednesday\", \"Thursday\", \"Friday\")\n",
    "names(poker_vector) <- days_vector\n",
    "names(roulette_vector) <- days_vector\n",
    "\n",
    "# Define a new variable based on a selection\n",
    "poker_wednesday <- poker_vector[]"
   ]
  },
  {
   "cell_type": "markdown",
   "metadata": {},
   "source": [
    "### Selección de vectores: los buenos tiempos (2)\n",
    "\n",
    "¿Qué te parece analizar tus resultados a mitad de semana?\n",
    "\n",
    "Para seleccionar múltiples elementos de un vector, puedes agregar corchetes al final del mismo. Dentro de los corchetes, indicas qué elementos deben ser seleccionados. Por ejemplo: supongamos que quieres seleccionar el primer y el quinto día de la semana; usa el vector `c(1, 5)` dentro de los corchetes. Por ejemplo, el siguiente código selecciona el primer y quinto elemento de poker_vector:\n",
    "\n",
    "```r\n",
    "poker_vector[c(1, 5)]\n",
    "```\n",
    "\n",
    "**Instrucciones**\n",
    "\n",
    "Asigna los resultados del póker del martes, miércoles y jueves a la variable `poker_midweek`."
   ]
  },
  {
   "cell_type": "code",
   "execution_count": null,
   "metadata": {
    "vscode": {
     "languageId": "r"
    }
   },
   "outputs": [],
   "source": [
    "# Poker and roulette winnings from Monday to Friday:\n",
    "poker_vector <- c(140, -50, 20, -120, 240)\n",
    "roulette_vector <- c(-24, -50, 100, -350, 10)\n",
    "days_vector <- c(\"Monday\", \"Tuesday\", \"Wednesday\", \"Thursday\", \"Friday\")\n",
    "names(poker_vector) <- days_vector\n",
    "names(roulette_vector) <- days_vector\n",
    "\n",
    "# Define a new variable based on a selection\n",
    "poker_midweek <- "
   ]
  },
  {
   "cell_type": "markdown",
   "metadata": {},
   "source": [
    "### Selección de vectores: los buenos tiempos (3)\n",
    "\n",
    "Seleccionar múltiples elementos de p`oker_vector` con `c(2, 3, 4)` no es muy conveniente. Los estadísticos crearon una forma más fácil de hacerlo: `c(2, 3, 4)` puede abreviarse como `2:4`, lo cual genera un vector con todos los números naturales desde 2 hasta 4.\n",
    "\n",
    "Así que, otra manera de encontrar los resultados de mitad de semana es `poker_vector[2:4]`. Observa cómo el vector `2:4` se coloca entre los corchetes para seleccionar del elemento 2 al 4.\n",
    "\n",
    "**Instrucciones**\n",
    "\n",
    "Asigna a `roulette_selection_vector` los resultados de la ruleta desde el martes hasta el viernes; usa `:` si te resulta más fácil."
   ]
  },
  {
   "cell_type": "code",
   "execution_count": null,
   "metadata": {
    "vscode": {
     "languageId": "r"
    }
   },
   "outputs": [],
   "source": [
    "# Poker and roulette winnings from Monday to Friday:\n",
    "poker_vector <- c(140, -50, 20, -120, 240)\n",
    "roulette_vector <- c(-24, -50, 100, -350, 10)\n",
    "days_vector <- c(\"Monday\", \"Tuesday\", \"Wednesday\", \"Thursday\", \"Friday\")\n",
    "names(poker_vector) <- days_vector\n",
    "names(roulette_vector) <- days_vector\n",
    "\n",
    "# Define a new variable based on a selection\n",
    "roulette_selection_vector <-\n"
   ]
  },
  {
   "cell_type": "markdown",
   "metadata": {},
   "source": [
    "### Selección de vectores: los buenos tiempos (4)\n",
    "\n",
    "Otra manera de resolver el ejercicio anterior es utilizando los nombres de los elementos del vector (`“Monday”`, `“Tuesday”`, …) en lugar de sus posiciones numéricas. Por ejemplo:\n",
    "\n",
    "```r\n",
    "poker_vector[\"Monday\"]\n",
    "```\n",
    "\n",
    "seleccionará el primer elemento de poker_vector, ya que `“Monday”` es el nombre de ese primer elemento.\n",
    "\n",
    "Al igual que hiciste en el ejercicio anterior con números, también puedes usar los nombres de los elementos para seleccionar múltiples elementos. Por ejemplo:\n",
    "\n",
    "```r\n",
    "poker_vector[c(\"Monday\", \"Tuesday\")]\n",
    "```\n",
    "\n",
    "**Instrucciones**\n",
    "\n",
    "- Selecciona los primeros tres elementos de `poker_vector` utilizando sus nombres: `\"Monday\"`, `\"Tuesday\"` y `\"Wednesday\"`.\n",
    "- Asigna el resultado de la selección a la variable `poker_start`.\n",
    "- Calcula el promedio de los valores en `poker_start` usando la función `mean()`. Simplemente imprime el resultado para que puedas revisarlo."
   ]
  },
  {
   "cell_type": "code",
   "execution_count": null,
   "metadata": {
    "vscode": {
     "languageId": "r"
    }
   },
   "outputs": [],
   "source": [
    "# Poker and roulette winnings from Monday to Friday:\n",
    "poker_vector <- c(140, -50, 20, -120, 240)\n",
    "roulette_vector <- c(-24, -50, 100, -350, 10)\n",
    "days_vector <- c(\"Monday\", \"Tuesday\", \"Wednesday\", \"Thursday\", \"Friday\")\n",
    "names(poker_vector) <- days_vector\n",
    "names(roulette_vector) <- days_vector\n",
    "\n",
    "# Select poker results for Monday, Tuesday and Wednesday\n",
    "poker_start <- \n",
    "\n",
    "# Calculate the average of the elements in poker_start"
   ]
  },
  {
   "cell_type": "markdown",
   "metadata": {},
   "source": [
    "### Selección por comparación - Paso 1\n",
    "\n",
    "Haciendo uso de los operadores de comparación, podemos abordar la pregunta anterior de una manera más proactiva.\n",
    "\n",
    "Los operadores de comparación (lógicos) que R reconoce son:\n",
    "- `<` para menor que\n",
    "- `>` para mayor que\n",
    "- `<=` para menor o igual que\n",
    "- `>=` para mayor o igual que\n",
    "- `==` para igual a\n",
    "- `!=` para diferente de\n",
    "\n",
    "Como viste en el capítulo anterior, escribir `6 > 5` devuelve `TRUE`. Lo interesante de R es que puedes usar estos operadores de comparación también sobre vectores. Por ejemplo:\n",
    "\n",
    "```r\n",
    "c(4, 5, 6) > 5\n",
    "```\n",
    "\n",
    "```text\n",
    "[1] FALSE FALSE TRUE\n",
    "```\n",
    "\n",
    "Este comando prueba, para cada elemento del vector, si la condición indicada por el operador de comparación es `TRUE` o `FALSE`.\n",
    "\n",
    "**Instrucciones**\n",
    "\n",
    "\n",
    "- Revisa qué elementos en `poker_vector` son positivos (es decir, > 0) y asigna el resultado a la variable selection_vector.\n",
    "- Imprime `selection_vector` para inspeccionarlo. La salida te indicará si ganaste (`TRUE`) o perdiste (`FALSE`) dinero en cada día."
   ]
  },
  {
   "cell_type": "code",
   "execution_count": null,
   "metadata": {
    "vscode": {
     "languageId": "r"
    }
   },
   "outputs": [],
   "source": [
    "# Poker and roulette winnings from Monday to Friday:\n",
    "poker_vector <- c(140, -50, 20, -120, 240)\n",
    "roulette_vector <- c(-24, -50, 100, -350, 10)\n",
    "days_vector <- c(\"Monday\", \"Tuesday\", \"Wednesday\", \"Thursday\", \"Friday\")\n",
    "names(poker_vector) <- days_vector\n",
    "names(roulette_vector) <- days_vector\n",
    "\n",
    "# Which days did you make money on poker?\n",
    "selection_vector <- \n",
    "  \n",
    "# Print out selection_vector"
   ]
  },
  {
   "cell_type": "markdown",
   "metadata": {},
   "source": [
    "### Selección por comparación - Paso 2\n",
    "\n",
    "Trabajar con comparaciones hará tu vida analítica mucho más sencilla. En lugar de seleccionar manualmente un subconjunto de días para investigar (como antes), puedes simplemente pedirle a R que devuelva solo aquellos días en los que obtuviste una ganancia en póker.\n",
    "\n",
    "En los ejercicios anteriores, usaste `selection_vector <- poker_vector > 0` para encontrar los días en los que tuviste una ganancia positiva en póker. Ahora, no solo quieres saber en qué días ganaste, sino también cuánto ganaste en esos días.\n",
    "\n",
    "Puedes seleccionar los elementos deseados colocando selection_vector entre corchetes después de poker_vector:\n",
    "\n",
    "```r\n",
    "poker_vector[selection_vector]\n",
    "```\n",
    "\n",
    "R sabe qué hacer cuando pasas un vector lógico dentro de corchetes: seleccionará únicamente los elementos que correspondan a `TRUE` en selection_vector.\n",
    "\n",
    "**Instrucciones**\n",
    "\n",
    "- Usa `selection_vector` dentro de corchetes para asignar las cantidades que ganaste en los días rentables a la variable `poker_winning_days`."
   ]
  },
  {
   "cell_type": "code",
   "execution_count": null,
   "metadata": {
    "vscode": {
     "languageId": "r"
    }
   },
   "outputs": [],
   "source": [
    "# Poker and roulette winnings from Monday to Friday:\n",
    "poker_vector <- c(140, -50, 20, -120, 240)\n",
    "roulette_vector <- c(-24, -50, 100, -350, 10)\n",
    "days_vector <- c(\"Monday\", \"Tuesday\", \"Wednesday\", \"Thursday\", \"Friday\")\n",
    "names(poker_vector) <- days_vector\n",
    "names(roulette_vector) <- days_vector\n",
    "\n",
    "# Which days did you make money on poker?\n",
    "selection_vector <- poker_vector > 0\n",
    "\n",
    "# Select from poker_vector these days\n",
    "poker_winning_days <- "
   ]
  },
  {
   "cell_type": "markdown",
   "metadata": {},
   "source": [
    "### Selección avanzada\n",
    "\n",
    "Así como hiciste para el póker, también quieres saber en qué días obtuviste una ganancia positiva en la ruleta.\n",
    "\n",
    "**Instrucciones**\n",
    "\n",
    "- Crea la variable `selection_vector`, esta vez para verificar si obtuviste ganancias en la ruleta en los diferentes días.\n",
    "- Asigna las cantidades que ganaste en los días con resultados positivos de la ruleta a la variable `roulette_winning_days`. Este vector contendrá las ganancias positivas de `roulette_vector`.\n"
   ]
  },
  {
   "cell_type": "code",
   "execution_count": null,
   "metadata": {
    "vscode": {
     "languageId": "r"
    }
   },
   "outputs": [],
   "source": [
    "# Poker and roulette winnings from Monday to Friday:\n",
    "poker_vector <- c(140, -50, 20, -120, 240)\n",
    "roulette_vector <- c(-24, -50, 100, -350, 10)\n",
    "days_vector <- c(\"Monday\", \"Tuesday\", \"Wednesday\", \"Thursday\", \"Friday\")\n",
    "names(poker_vector) <- days_vector\n",
    "names(roulette_vector) <- days_vector\n",
    "\n",
    "# Which days did you make money on roulette?\n",
    "selection_vector <-\n",
    "\n",
    "# Select from roulette_vector these days\n",
    "roulette_winning_days <- "
   ]
  }
 ],
 "metadata": {
  "kernelspec": {
   "display_name": "R",
   "language": "R",
   "name": "ir"
  },
  "language_info": {
   "codemirror_mode": "r",
   "file_extension": ".r",
   "mimetype": "text/x-r-source",
   "name": "R",
   "pygments_lexer": "r",
   "version": "4.2.3"
  }
 },
 "nbformat": 4,
 "nbformat_minor": 2
}
